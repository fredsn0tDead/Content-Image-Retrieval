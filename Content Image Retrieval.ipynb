{
 "cells": [
  {
   "cell_type": "code",
   "execution_count": 16,
   "metadata": {
    "scrolled": true
   },
   "outputs": [
    {
     "name": "stdout",
     "output_type": "stream",
     "text": [
      "The search algorthim found 5 matches\n",
      "The search algorthim found 95  mismatches\n"
     ]
    },
    {
     "data": {
      "image/png": "[encoded data removed]",
      "text/plain": [
       "<Figure size 72x144 with 2 Axes>"
      ]
     },
     "metadata": {
      "needs_background": "light"
     },
     "output_type": "display_data"
    },
    {
     "data": {
      "image/png": "[encoded data removed]",
      "text/plain": [
       "<Figure size 72x144 with 2 Axes>"
      ]
     },
     "metadata": {
      "needs_background": "light"
     },
     "output_type": "display_data"
    },
    {
     "data": {
      "image/png": "[encoded data removed]",
      "text/plain": [
       "<Figure size 72x144 with 2 Axes>"
      ]
     },
     "metadata": {
      "needs_background": "light"
     },
     "output_type": "display_data"
    },
    {
     "data": {
      "image/png": "[encoded data removed]",
      "text/plain": [
       "<Figure size 72x144 with 2 Axes>"
      ]
     },
     "metadata": {
      "needs_background": "light"
     },
     "output_type": "display_data"
    },
    {
     "data": {
      "image/png": "[encoded data removed]",
      "text/plain": [
       "<Figure size 72x144 with 2 Axes>"
      ]
     },
     "metadata": {
      "needs_background": "light"
     },
     "output_type": "display_data"
    }
   ],
   "source": [
    "#Import All the necessary libraries\n",
    "\n",
    "\n",
    "\n",
    "import matplotlib.pyplot as plt\n",
    "import numpy as np\n",
    "from os import listdir\n",
    "from os.path import isfile, join\n",
    "import cv2\n",
    "import pandas as pd\n",
    "from scipy.spatial import distance\n",
    "from scipy.ndimage import rotate\n",
    "\n",
    "#Open the images and save them to a np.imarray\n",
    "path = 'C:\\\\Users\\\\frede\\\\DS Final Project\\\\MNIST_DS'\n",
    "# onlyimages used to get all the images form my directory \n",
    "\n",
    "onlyimages = [ f for f in listdir(path)if isfile (join(path, f))]\n",
    "#img created as an empty array to hold the images as an object of a length equal to the size of the directory\n",
    "img = np.empty (len(onlyimages), dtype = object)\n",
    "\n",
    "#for loop used to get the range of files from the first image the last image\n",
    "for n in range (0 , len (onlyimages)):\n",
    "  #hold the image in an array  \n",
    "    img[n] = cv2.imread(join (path, onlyimages[n]),0)\n",
    "\n",
    "def getimage(g):\n",
    "# Need to redine the image arry so it can be called in future functions\n",
    "    path = 'C:\\\\Users\\\\frede\\\\DS Final Project\\\\MNIST_DS'\n",
    "# onlyimages used to get all the images form my directory \n",
    "\n",
    "    onlyimages = [ f for f in listdir(path)if isfile (join(path, f))]\n",
    "#img created as an empty array to hold the images as an object of a length equal to the size of the directory\n",
    "    img = np.empty (len(onlyimages), dtype = object)\n",
    "\n",
    "#for loop used to get the range of files from the first image the last image\n",
    "    for n in range (0 , len (onlyimages)):\n",
    "  #hold the image in an array  \n",
    "        img[n] = cv2.imread(join (path, onlyimages[n]),0)\n",
    "    return img[g]\n",
    "#get the projection of each image\n",
    "def getprojection(imgarray,ang,n):#needs parameter of the nth barcode and the img storing array and the angle of the projection\n",
    "    #intiate the image array with the list of images in the get image funcion\n",
    "    imgarray = getimage(n)\n",
    "    #4 cases for each projection to see how we generate the barcode\n",
    "    \n",
    "    \n",
    "    if (ang == 0):\n",
    "        proj1 = np.sum(getimage(n), axis = 0)\n",
    "        projection1 = convertBin(proj1)\n",
    "        return projection1 \n",
    "    \n",
    "    if(ang == 90):\n",
    "        proj3 = np.sum(getimage(n), axis = 1)\n",
    "        projection3 = convertBin(proj3)\n",
    "        return projection3\n",
    "    \n",
    "    elif (ang == 45):\n",
    "        \n",
    "        proj45 = rotate(getimage(n), 45)\n",
    "        proj2 = np.sum(proj45, axis = 0)\n",
    "        projection2 = convertBin(proj2)\n",
    "        return projection2\n",
    "    \n",
    "    else:\n",
    "        proj135 = rotate(getimage(n),135)\n",
    "        proj4 = np.sum(proj135, axis = 1)\n",
    "        projection4 = convertBin(proj4)\n",
    "        return projection4\n",
    " #get the binary version of each barcode   \n",
    "def convertBin(projectarray):\n",
    "   \n",
    "    thresholdvalue = (np.sum(projectarray)/28)#calcuate the mean value of the current projection\n",
    "    \n",
    "    compar = np.greater(thresholdvalue, projectarray)# check to see if the indivual values in the array are less than the mean average of the array\n",
    "        \n",
    "    for n in range (len(compar)):\n",
    "            if compar[n]:\n",
    "                projectarray[n] = 1;\n",
    "            else:\n",
    "                projectarray[n] = 0;\n",
    "   \n",
    "        \n",
    "    return projectarray\n",
    "#hold each barcode in an array\n",
    "def barcodegen(imgarray,n):\n",
    "    Barcode1 = np.concatenate((getprojection(imgarray,0,n), getprojection(imgarray,45,n)))\n",
    "    Barcode2 = np.concatenate((getprojection(imgarray,90,n), getprojection(imgarray,135,n)))\n",
    "    Barcode3 = np.concatenate([Barcode1, Barcode2])\n",
    "    return Barcode3\n",
    "#intiate Barcode array outside the functions\n",
    "barcodearray = np.empty (len(onlyimages), dtype = object)\n",
    "for n in range (0 , len (onlyimages)):\n",
    "            barcodearray[n] = barcodegen(getimage(n),n)\n",
    "        \n",
    "#Enter a image number to see the image then search for an image tjhat matches that class\n",
    "#You need to enter a barcode array index number which corresponds to an image  ex searchalgo(barcodearray[45],45) will correspond to number 4\n",
    "# for both n,g you can enter  number between 0-99 as there only 100 images  *important n must = g since they are one in the same the index for the barcode image\n",
    "#Once the index is chosen the search algothim prints out the images you are indexing next to the most similar image next to it then counts the number of cooresponding images\n",
    "#When measuring retrival accuracy you count to see how many images it printed where of the same class\n",
    "#In this case it found 10 matches, however only 2 of those where 4 so this means the accuarcy for this image was 20%\n",
    "#The accuracy changes depending on the image chosen\n",
    "def searchalgo(barcode1,g):# takes the barcode of a random image to see if it can find an appropriate cooresponding field\n",
    "    count1= 0\n",
    "    count2=0\n",
    "    imgBarcode1 =img[g]# have both barcodes intitally equal the same image cooresponding to the indicated barcode\n",
    "    \n",
    "    \n",
    "    imgBarcode2 = np.empty([28, 28], dtype=int)\n",
    "    #hammingodistance between two images\n",
    "    for n in range (0 , len (onlyimages)):\n",
    "        #Searching throuhg each image to see if the image chosen has a hamming distance less than 1\n",
    "        if (distance.hamming(barcode1,barcodearray[n]) < 0.0999 and distance.hamming(barcode1,barcodearray[n]) != 0 ) :\n",
    "            count1+=1\n",
    "           #Print out the image indexed when the function was called and the found image \n",
    "            imgBarcode1 = img[g]\n",
    "            imgBarcode2 = img[n]\n",
    "            \n",
    "            plt.figure(figsize=[1, 2])\n",
    "            plt.subplot(1,2,1)\n",
    "            plt.imshow(imgBarcode1)\n",
    "            plt.subplot(1,2,2)\n",
    "            plt.imshow(imgBarcode2)\n",
    "        else:\n",
    "            #Record how many images of the 99 were not found to match\n",
    "            count2+= 1\n",
    "    \n",
    "    print (\"The search algorthim found \" + str(count1) + \" matches\" )\n",
    "    print (\"The search algorthim found \" + str(count2) + \"  mismatches\" )\n",
    "searchalgo(barcodearray[34],34)"
   ]
  },
  {
   "cell_type": "code",
   "execution_count": null,
   "metadata": {},
   "outputs": [],
   "source": []
  },
  {
   "cell_type": "code",
   "execution_count": null,
   "metadata": {},
   "outputs": [],
   "source": []
  }
 ],
 "metadata": {
  "kernelspec": {
   "display_name": "Python 3",
   "language": "python",
   "name": "python3"
  },
  "language_info": {
   "codemirror_mode": {
    "name": "ipython",
    "version": 3
   },
   "file_extension": ".py",
   "mimetype": "text/x-python",
   "name": "python",
   "nbconvert_exporter": "python",
   "pygments_lexer": "ipython3",
   "version": "3.8.8"
  }
 },
 "nbformat": 4,
 "nbformat_minor": 4
}
